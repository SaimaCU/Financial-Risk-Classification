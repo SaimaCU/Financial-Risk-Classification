{
  "nbformat": 4,
  "nbformat_minor": 0,
  "metadata": {
    "colab": {
      "provenance": [],
      "collapsed_sections": [
        "dF5C9Ivhidi0"
      ],
      "gpuType": "T4",
      "mount_file_id": "1ergXyGixZr5BuB7xsOZQrRQOfB80GpED",
      "authorship_tag": "ABX9TyMFdnEXoxZ1ybfeU7bE04qE",
      "include_colab_link": true
    },
    "kernelspec": {
      "name": "python3",
      "display_name": "Python 3"
    },
    "language_info": {
      "name": "python"
    },
    "accelerator": "GPU"
  },
  "cells": [
    {
      "cell_type": "markdown",
      "metadata": {
        "id": "view-in-github",
        "colab_type": "text"
      },
      "source": [
        "<a href=\"https://colab.research.google.com/github/SaimaCU/Financial-Risk-Classification/blob/main/Financial_Risk_Classification.ipynb\" target=\"_parent\"><img src=\"https://colab.research.google.com/assets/colab-badge.svg\" alt=\"Open In Colab\"/></a>"
      ]
    },
    {
      "cell_type": "markdown",
      "source": [
        "# Supervised Model (Max Voting)"
      ],
      "metadata": {
        "id": "NtGkfyCuiS6i"
      }
    },
    {
      "cell_type": "code",
      "execution_count": 25,
      "metadata": {
        "colab": {
          "base_uri": "https://localhost:8080/"
        },
        "id": "0qFHwnCT0_O8",
        "outputId": "aae4f62d-e1a9-435f-d0f1-65ccbd8a8d6d"
      },
      "outputs": [
        {
          "output_type": "stream",
          "name": "stdout",
          "text": [
            "<class 'pandas.core.frame.DataFrame'>\n",
            "RangeIndex: 15000 entries, 0 to 14999\n",
            "Data columns (total 20 columns):\n",
            " #   Column                 Non-Null Count  Dtype  \n",
            "---  ------                 --------------  -----  \n",
            " 0   Age                    15000 non-null  int64  \n",
            " 1   Gender                 15000 non-null  object \n",
            " 2   Education Level        15000 non-null  object \n",
            " 3   Marital Status         15000 non-null  object \n",
            " 4   Income                 12750 non-null  float64\n",
            " 5   Credit Score           12750 non-null  float64\n",
            " 6   Loan Amount            12750 non-null  float64\n",
            " 7   Loan Purpose           15000 non-null  object \n",
            " 8   Employment Status      15000 non-null  object \n",
            " 9   Years at Current Job   15000 non-null  int64  \n",
            " 10  Payment History        15000 non-null  object \n",
            " 11  Debt-to-Income Ratio   15000 non-null  float64\n",
            " 12  Assets Value           12750 non-null  float64\n",
            " 13  Number of Dependents   12750 non-null  float64\n",
            " 14  City                   15000 non-null  object \n",
            " 15  State                  15000 non-null  object \n",
            " 16  Country                15000 non-null  object \n",
            " 17  Previous Defaults      12750 non-null  float64\n",
            " 18  Marital Status Change  15000 non-null  int64  \n",
            " 19  Risk Rating            15000 non-null  object \n",
            "dtypes: float64(7), int64(3), object(10)\n",
            "memory usage: 2.3+ MB\n"
          ]
        },
        {
          "output_type": "execute_result",
          "data": {
            "text/plain": [
              "(None,\n",
              "    Age      Gender Education Level Marital Status   Income  Credit Score  \\\n",
              " 0   49        Male             PhD       Divorced  72799.0         688.0   \n",
              " 1   57      Female      Bachelor's        Widowed      NaN         690.0   \n",
              " 2   21  Non-binary        Master's         Single  55687.0         600.0   \n",
              " 3   59        Male      Bachelor's         Single  26508.0         622.0   \n",
              " 4   25  Non-binary      Bachelor's        Widowed  49427.0         766.0   \n",
              " \n",
              "    Loan Amount Loan Purpose Employment Status  Years at Current Job  \\\n",
              " 0      45713.0     Business        Unemployed                    19   \n",
              " 1      33835.0         Auto          Employed                     6   \n",
              " 2      36623.0         Home          Employed                     8   \n",
              " 3      26541.0     Personal        Unemployed                     2   \n",
              " 4      36528.0     Personal        Unemployed                    10   \n",
              " \n",
              "   Payment History  Debt-to-Income Ratio  Assets Value  Number of Dependents  \\\n",
              " 0            Poor              0.154313      120228.0                   0.0   \n",
              " 1            Fair              0.148920       55849.0                   0.0   \n",
              " 2            Fair              0.362398      180700.0                   3.0   \n",
              " 3       Excellent              0.454964      157319.0                   3.0   \n",
              " 4            Fair              0.143242      287140.0                   NaN   \n",
              " \n",
              "               City State       Country  Previous Defaults  \\\n",
              " 0   Port Elizabeth    AS        Cyprus                2.0   \n",
              " 1  North Catherine    OH  Turkmenistan                3.0   \n",
              " 2      South Scott    OK    Luxembourg                3.0   \n",
              " 3       Robinhaven    PR        Uganda                4.0   \n",
              " 4      New Heather    IL       Namibia                3.0   \n",
              " \n",
              "    Marital Status Change Risk Rating  \n",
              " 0                      2         Low  \n",
              " 1                      2      Medium  \n",
              " 2                      2      Medium  \n",
              " 3                      2      Medium  \n",
              " 4                      1         Low  )"
            ]
          },
          "metadata": {},
          "execution_count": 25
        }
      ],
      "source": [
        "import pandas as pd\n",
        "\n",
        "# loading dataset\n",
        "file_path = '/content/drive/MyDrive/Data/financial_risk_assessment.csv'\n",
        "df = pd.read_csv(file_path)\n",
        "\n",
        "df.info(), df.head()\n"
      ]
    },
    {
      "cell_type": "code",
      "source": [
        "from sklearn.impute import SimpleImputer\n",
        "\n",
        "# features and target\n",
        "X = df.drop('Risk Rating', axis=1)\n",
        "y = df['Risk Rating']\n",
        "\n",
        "# numerical and categorical columns\n",
        "numerical_cols = X.select_dtypes(include=['float64', 'int64']).columns\n",
        "categorical_cols = X.select_dtypes(include=['object']).columns\n",
        "\n",
        "# replace missing values with median\n",
        "num_imputer = SimpleImputer(strategy='median')\n",
        "X[numerical_cols] = num_imputer.fit_transform(X[numerical_cols])\n",
        "\n",
        "# replace missing values for categorical columns with mode\n",
        "cat_imputer = SimpleImputer(strategy='most_frequent')\n",
        "X[categorical_cols] = cat_imputer.fit_transform(X[categorical_cols])\n",
        "\n",
        "\n",
        "X.isnull().sum()\n"
      ],
      "metadata": {
        "colab": {
          "base_uri": "https://localhost:8080/",
          "height": 679
        },
        "id": "_1_XnSqR7FhK",
        "outputId": "a1d5e224-b9d6-49e2-c088-262b89067304"
      },
      "execution_count": 26,
      "outputs": [
        {
          "output_type": "execute_result",
          "data": {
            "text/plain": [
              "Age                      0\n",
              "Gender                   0\n",
              "Education Level          0\n",
              "Marital Status           0\n",
              "Income                   0\n",
              "Credit Score             0\n",
              "Loan Amount              0\n",
              "Loan Purpose             0\n",
              "Employment Status        0\n",
              "Years at Current Job     0\n",
              "Payment History          0\n",
              "Debt-to-Income Ratio     0\n",
              "Assets Value             0\n",
              "Number of Dependents     0\n",
              "City                     0\n",
              "State                    0\n",
              "Country                  0\n",
              "Previous Defaults        0\n",
              "Marital Status Change    0\n",
              "dtype: int64"
            ],
            "text/html": [
              "<div>\n",
              "<style scoped>\n",
              "    .dataframe tbody tr th:only-of-type {\n",
              "        vertical-align: middle;\n",
              "    }\n",
              "\n",
              "    .dataframe tbody tr th {\n",
              "        vertical-align: top;\n",
              "    }\n",
              "\n",
              "    .dataframe thead th {\n",
              "        text-align: right;\n",
              "    }\n",
              "</style>\n",
              "<table border=\"1\" class=\"dataframe\">\n",
              "  <thead>\n",
              "    <tr style=\"text-align: right;\">\n",
              "      <th></th>\n",
              "      <th>0</th>\n",
              "    </tr>\n",
              "  </thead>\n",
              "  <tbody>\n",
              "    <tr>\n",
              "      <th>Age</th>\n",
              "      <td>0</td>\n",
              "    </tr>\n",
              "    <tr>\n",
              "      <th>Gender</th>\n",
              "      <td>0</td>\n",
              "    </tr>\n",
              "    <tr>\n",
              "      <th>Education Level</th>\n",
              "      <td>0</td>\n",
              "    </tr>\n",
              "    <tr>\n",
              "      <th>Marital Status</th>\n",
              "      <td>0</td>\n",
              "    </tr>\n",
              "    <tr>\n",
              "      <th>Income</th>\n",
              "      <td>0</td>\n",
              "    </tr>\n",
              "    <tr>\n",
              "      <th>Credit Score</th>\n",
              "      <td>0</td>\n",
              "    </tr>\n",
              "    <tr>\n",
              "      <th>Loan Amount</th>\n",
              "      <td>0</td>\n",
              "    </tr>\n",
              "    <tr>\n",
              "      <th>Loan Purpose</th>\n",
              "      <td>0</td>\n",
              "    </tr>\n",
              "    <tr>\n",
              "      <th>Employment Status</th>\n",
              "      <td>0</td>\n",
              "    </tr>\n",
              "    <tr>\n",
              "      <th>Years at Current Job</th>\n",
              "      <td>0</td>\n",
              "    </tr>\n",
              "    <tr>\n",
              "      <th>Payment History</th>\n",
              "      <td>0</td>\n",
              "    </tr>\n",
              "    <tr>\n",
              "      <th>Debt-to-Income Ratio</th>\n",
              "      <td>0</td>\n",
              "    </tr>\n",
              "    <tr>\n",
              "      <th>Assets Value</th>\n",
              "      <td>0</td>\n",
              "    </tr>\n",
              "    <tr>\n",
              "      <th>Number of Dependents</th>\n",
              "      <td>0</td>\n",
              "    </tr>\n",
              "    <tr>\n",
              "      <th>City</th>\n",
              "      <td>0</td>\n",
              "    </tr>\n",
              "    <tr>\n",
              "      <th>State</th>\n",
              "      <td>0</td>\n",
              "    </tr>\n",
              "    <tr>\n",
              "      <th>Country</th>\n",
              "      <td>0</td>\n",
              "    </tr>\n",
              "    <tr>\n",
              "      <th>Previous Defaults</th>\n",
              "      <td>0</td>\n",
              "    </tr>\n",
              "    <tr>\n",
              "      <th>Marital Status Change</th>\n",
              "      <td>0</td>\n",
              "    </tr>\n",
              "  </tbody>\n",
              "</table>\n",
              "</div><br><label><b>dtype:</b> int64</label>"
            ]
          },
          "metadata": {},
          "execution_count": 26
        }
      ]
    },
    {
      "cell_type": "code",
      "source": [
        "import numpy as np\n",
        "import pandas as pd\n",
        "import seaborn as sns\n",
        "import matplotlib.pyplot as plt\n",
        "from sklearn.model_selection import train_test_split\n",
        "from sklearn.preprocessing import StandardScaler, LabelEncoder\n",
        "from sklearn.ensemble import RandomForestClassifier, GradientBoostingClassifier\n",
        "from sklearn.linear_model import LogisticRegression\n",
        "from sklearn.ensemble import VotingClassifier\n",
        "from sklearn.metrics import classification_report, confusion_matrix\n",
        "from sklearn.metrics import recall_score, precision_score, f1_score, accuracy_score\n",
        "from sklearn.neural_network import MLPClassifier\n",
        "\n",
        "# encoding features and target\n",
        "X_encoded = pd.get_dummies(X, drop_first=True)\n",
        "le = LabelEncoder()\n",
        "y_encoded = le.fit_transform(y)\n",
        "\n",
        "# split dataset\n",
        "X_train, X_test, y_train, y_test = train_test_split(X_encoded, y_encoded, test_size=0.2, random_state=42)\n",
        "\n",
        "\n",
        "scaler = StandardScaler()\n",
        "X_train_scaled = scaler.fit_transform(X_train)\n",
        "X_test_scaled = scaler.transform(X_test)\n",
        "\n",
        "# individual models\n",
        "logreg = LogisticRegression(max_iter=1000, random_state=42)\n",
        "rf = RandomForestClassifier(random_state=42)\n",
        "gb = GradientBoostingClassifier(random_state=42)\n",
        "\n",
        "# max voting\n",
        "voting_clf = VotingClassifier(estimators=[('lr', logreg), ('rf', rf), ('gb', gb)], voting='hard')\n",
        "\n",
        "# training\n",
        "voting_clf.fit(X_train_scaled, y_train)\n",
        "\n",
        "# predictions and evaluate\n",
        "y_pred = voting_clf.predict(X_test_scaled)\n",
        "report = classification_report(y_test, y_pred, target_names=le.classes_)\n",
        "\n",
        "\n",
        "print(report)\n",
        "\n",
        "\n",
        "recall = recall_score(y_test, y_pred, average = 'micro')\n",
        "precision = precision_score(y_test, y_pred, average = 'micro')\n",
        "f1 = f1_score(y_test, y_pred, average = 'micro')\n",
        "accuracy = accuracy_score(y_test, y_pred)\n",
        "\n",
        "print(f\"Recall Score: {recall}\")\n",
        "print(f\"Precision Score: {precision}\")\n",
        "print(f\"F1 Score: {f1}\")\n",
        "print(f\"Accuracy: {accuracy}\")\n",
        "\n",
        "# confusion matrix\n",
        "conf_matrix = confusion_matrix(y_test, y_pred)\n",
        "\n",
        "plt.figure(figsize=(8, 6))\n",
        "sns.heatmap(conf_matrix, annot=True, fmt='d', cmap='Blues',\n",
        "            xticklabels=le.classes_, yticklabels=le.classes_)\n",
        "plt.title('Confusion Matrix')\n",
        "plt.xlabel('Predicted Label')\n",
        "plt.ylabel('True Label')\n",
        "plt.show()"
      ],
      "metadata": {
        "colab": {
          "base_uri": "https://localhost:8080/",
          "height": 820
        },
        "id": "ttAJJCeA8Q5k",
        "outputId": "5aa75053-39ac-4c68-9487-5bcd789de7bb"
      },
      "execution_count": 28,
      "outputs": [
        {
          "output_type": "stream",
          "name": "stdout",
          "text": [
            "              precision    recall  f1-score   support\n",
            "\n",
            "        High       0.00      0.00      0.00       326\n",
            "         Low       0.59      1.00      0.74      1779\n",
            "      Medium       0.33      0.00      0.01       895\n",
            "\n",
            "    accuracy                           0.59      3000\n",
            "   macro avg       0.31      0.33      0.25      3000\n",
            "weighted avg       0.45      0.59      0.44      3000\n",
            "\n",
            "Recall Score: 0.5916666666666667\n",
            "Precision Score: 0.5916666666666667\n",
            "F1 Score: 0.5916666666666667\n",
            "Accuracy: 0.5916666666666667\n"
          ]
        },
        {
          "output_type": "display_data",
          "data": {
            "text/plain": [
              "<Figure size 800x600 with 2 Axes>"
            ],
            "image/png": "[encoded data removed]"
          },
          "metadata": {}
        }
      ]
    },
    {
      "cell_type": "markdown",
      "source": [
        "# Semi-supervised (FixMatch)"
      ],
      "metadata": {
        "id": "dF5C9Ivhidi0"
      }
    },
    {
      "cell_type": "code",
      "source": [
        "import pandas as pd\n",
        "\n",
        "# loading dataset\n",
        "file_path = '/content/drive/MyDrive/Data/financial_risk_assessment.csv'\n",
        "data = pd.read_csv(file_path)\n",
        "\n",
        "\n",
        "data.head(), data.info(), data.isnull().sum()\n"
      ],
      "metadata": {
        "colab": {
          "base_uri": "https://localhost:8080/"
        },
        "id": "zJSIKeavimCB",
        "outputId": "39842f75-8f9f-4dfc-c345-6d053c82385d"
      },
      "execution_count": 13,
      "outputs": [
        {
          "output_type": "stream",
          "name": "stdout",
          "text": [
            "<class 'pandas.core.frame.DataFrame'>\n",
            "RangeIndex: 15000 entries, 0 to 14999\n",
            "Data columns (total 20 columns):\n",
            " #   Column                 Non-Null Count  Dtype  \n",
            "---  ------                 --------------  -----  \n",
            " 0   Age                    15000 non-null  int64  \n",
            " 1   Gender                 15000 non-null  object \n",
            " 2   Education Level        15000 non-null  object \n",
            " 3   Marital Status         15000 non-null  object \n",
            " 4   Income                 12750 non-null  float64\n",
            " 5   Credit Score           12750 non-null  float64\n",
            " 6   Loan Amount            12750 non-null  float64\n",
            " 7   Loan Purpose           15000 non-null  object \n",
            " 8   Employment Status      15000 non-null  object \n",
            " 9   Years at Current Job   15000 non-null  int64  \n",
            " 10  Payment History        15000 non-null  object \n",
            " 11  Debt-to-Income Ratio   15000 non-null  float64\n",
            " 12  Assets Value           12750 non-null  float64\n",
            " 13  Number of Dependents   12750 non-null  float64\n",
            " 14  City                   15000 non-null  object \n",
            " 15  State                  15000 non-null  object \n",
            " 16  Country                15000 non-null  object \n",
            " 17  Previous Defaults      12750 non-null  float64\n",
            " 18  Marital Status Change  15000 non-null  int64  \n",
            " 19  Risk Rating            15000 non-null  object \n",
            "dtypes: float64(7), int64(3), object(10)\n",
            "memory usage: 2.3+ MB\n"
          ]
        },
        {
          "output_type": "execute_result",
          "data": {
            "text/plain": [
              "(   Age      Gender Education Level Marital Status   Income  Credit Score  \\\n",
              " 0   49        Male             PhD       Divorced  72799.0         688.0   \n",
              " 1   57      Female      Bachelor's        Widowed      NaN         690.0   \n",
              " 2   21  Non-binary        Master's         Single  55687.0         600.0   \n",
              " 3   59        Male      Bachelor's         Single  26508.0         622.0   \n",
              " 4   25  Non-binary      Bachelor's        Widowed  49427.0         766.0   \n",
              " \n",
              "    Loan Amount Loan Purpose Employment Status  Years at Current Job  \\\n",
              " 0      45713.0     Business        Unemployed                    19   \n",
              " 1      33835.0         Auto          Employed                     6   \n",
              " 2      36623.0         Home          Employed                     8   \n",
              " 3      26541.0     Personal        Unemployed                     2   \n",
              " 4      36528.0     Personal        Unemployed                    10   \n",
              " \n",
              "   Payment History  Debt-to-Income Ratio  Assets Value  Number of Dependents  \\\n",
              " 0            Poor              0.154313      120228.0                   0.0   \n",
              " 1            Fair              0.148920       55849.0                   0.0   \n",
              " 2            Fair              0.362398      180700.0                   3.0   \n",
              " 3       Excellent              0.454964      157319.0                   3.0   \n",
              " 4            Fair              0.143242      287140.0                   NaN   \n",
              " \n",
              "               City State       Country  Previous Defaults  \\\n",
              " 0   Port Elizabeth    AS        Cyprus                2.0   \n",
              " 1  North Catherine    OH  Turkmenistan                3.0   \n",
              " 2      South Scott    OK    Luxembourg                3.0   \n",
              " 3       Robinhaven    PR        Uganda                4.0   \n",
              " 4      New Heather    IL       Namibia                3.0   \n",
              " \n",
              "    Marital Status Change Risk Rating  \n",
              " 0                      2         Low  \n",
              " 1                      2      Medium  \n",
              " 2                      2      Medium  \n",
              " 3                      2      Medium  \n",
              " 4                      1         Low  ,\n",
              " None,\n",
              " Age                         0\n",
              " Gender                      0\n",
              " Education Level             0\n",
              " Marital Status              0\n",
              " Income                   2250\n",
              " Credit Score             2250\n",
              " Loan Amount              2250\n",
              " Loan Purpose                0\n",
              " Employment Status           0\n",
              " Years at Current Job        0\n",
              " Payment History             0\n",
              " Debt-to-Income Ratio        0\n",
              " Assets Value             2250\n",
              " Number of Dependents     2250\n",
              " City                        0\n",
              " State                       0\n",
              " Country                     0\n",
              " Previous Defaults        2250\n",
              " Marital Status Change       0\n",
              " Risk Rating                 0\n",
              " dtype: int64)"
            ]
          },
          "metadata": {},
          "execution_count": 13
        }
      ]
    },
    {
      "cell_type": "code",
      "source": [
        "# replace missing values with the mean\n",
        "continuous_columns = ['Income', 'Credit Score', 'Loan Amount', 'Assets Value',\n",
        "                      'Number of Dependents', 'Previous Defaults']\n",
        "for col in continuous_columns:\n",
        "    data[col].fillna(data[col].mean(), inplace=True)\n",
        "\n",
        "# verifying if all missing values are handled\n",
        "data.isnull().sum()\n"
      ],
      "metadata": {
        "colab": {
          "base_uri": "https://localhost:8080/",
          "height": 859
        },
        "id": "aJx8uyChivLF",
        "outputId": "49779d65-b9a7-464b-9094-2059b0f43492"
      },
      "execution_count": 14,
      "outputs": [
        {
          "output_type": "stream",
          "name": "stderr",
          "text": [
            "<ipython-input-14-0b44fe111449>:5: FutureWarning: A value is trying to be set on a copy of a DataFrame or Series through chained assignment using an inplace method.\n",
            "The behavior will change in pandas 3.0. This inplace method will never work because the intermediate object on which we are setting values always behaves as a copy.\n",
            "\n",
            "For example, when doing 'df[col].method(value, inplace=True)', try using 'df.method({col: value}, inplace=True)' or df[col] = df[col].method(value) instead, to perform the operation inplace on the original object.\n",
            "\n",
            "\n",
            "  data[col].fillna(data[col].mean(), inplace=True)\n"
          ]
        },
        {
          "output_type": "execute_result",
          "data": {
            "text/plain": [
              "Age                      0\n",
              "Gender                   0\n",
              "Education Level          0\n",
              "Marital Status           0\n",
              "Income                   0\n",
              "Credit Score             0\n",
              "Loan Amount              0\n",
              "Loan Purpose             0\n",
              "Employment Status        0\n",
              "Years at Current Job     0\n",
              "Payment History          0\n",
              "Debt-to-Income Ratio     0\n",
              "Assets Value             0\n",
              "Number of Dependents     0\n",
              "City                     0\n",
              "State                    0\n",
              "Country                  0\n",
              "Previous Defaults        0\n",
              "Marital Status Change    0\n",
              "Risk Rating              0\n",
              "dtype: int64"
            ],
            "text/html": [
              "<div>\n",
              "<style scoped>\n",
              "    .dataframe tbody tr th:only-of-type {\n",
              "        vertical-align: middle;\n",
              "    }\n",
              "\n",
              "    .dataframe tbody tr th {\n",
              "        vertical-align: top;\n",
              "    }\n",
              "\n",
              "    .dataframe thead th {\n",
              "        text-align: right;\n",
              "    }\n",
              "</style>\n",
              "<table border=\"1\" class=\"dataframe\">\n",
              "  <thead>\n",
              "    <tr style=\"text-align: right;\">\n",
              "      <th></th>\n",
              "      <th>0</th>\n",
              "    </tr>\n",
              "  </thead>\n",
              "  <tbody>\n",
              "    <tr>\n",
              "      <th>Age</th>\n",
              "      <td>0</td>\n",
              "    </tr>\n",
              "    <tr>\n",
              "      <th>Gender</th>\n",
              "      <td>0</td>\n",
              "    </tr>\n",
              "    <tr>\n",
              "      <th>Education Level</th>\n",
              "      <td>0</td>\n",
              "    </tr>\n",
              "    <tr>\n",
              "      <th>Marital Status</th>\n",
              "      <td>0</td>\n",
              "    </tr>\n",
              "    <tr>\n",
              "      <th>Income</th>\n",
              "      <td>0</td>\n",
              "    </tr>\n",
              "    <tr>\n",
              "      <th>Credit Score</th>\n",
              "      <td>0</td>\n",
              "    </tr>\n",
              "    <tr>\n",
              "      <th>Loan Amount</th>\n",
              "      <td>0</td>\n",
              "    </tr>\n",
              "    <tr>\n",
              "      <th>Loan Purpose</th>\n",
              "      <td>0</td>\n",
              "    </tr>\n",
              "    <tr>\n",
              "      <th>Employment Status</th>\n",
              "      <td>0</td>\n",
              "    </tr>\n",
              "    <tr>\n",
              "      <th>Years at Current Job</th>\n",
              "      <td>0</td>\n",
              "    </tr>\n",
              "    <tr>\n",
              "      <th>Payment History</th>\n",
              "      <td>0</td>\n",
              "    </tr>\n",
              "    <tr>\n",
              "      <th>Debt-to-Income Ratio</th>\n",
              "      <td>0</td>\n",
              "    </tr>\n",
              "    <tr>\n",
              "      <th>Assets Value</th>\n",
              "      <td>0</td>\n",
              "    </tr>\n",
              "    <tr>\n",
              "      <th>Number of Dependents</th>\n",
              "      <td>0</td>\n",
              "    </tr>\n",
              "    <tr>\n",
              "      <th>City</th>\n",
              "      <td>0</td>\n",
              "    </tr>\n",
              "    <tr>\n",
              "      <th>State</th>\n",
              "      <td>0</td>\n",
              "    </tr>\n",
              "    <tr>\n",
              "      <th>Country</th>\n",
              "      <td>0</td>\n",
              "    </tr>\n",
              "    <tr>\n",
              "      <th>Previous Defaults</th>\n",
              "      <td>0</td>\n",
              "    </tr>\n",
              "    <tr>\n",
              "      <th>Marital Status Change</th>\n",
              "      <td>0</td>\n",
              "    </tr>\n",
              "    <tr>\n",
              "      <th>Risk Rating</th>\n",
              "      <td>0</td>\n",
              "    </tr>\n",
              "  </tbody>\n",
              "</table>\n",
              "</div><br><label><b>dtype:</b> int64</label>"
            ]
          },
          "metadata": {},
          "execution_count": 14
        }
      ]
    },
    {
      "cell_type": "code",
      "source": [
        "from sklearn.preprocessing import LabelEncoder, StandardScaler\n",
        "\n",
        "# encoding using LabelEncoder\n",
        "categorical_columns = ['Gender', 'Education Level', 'Marital Status', 'Loan Purpose',\n",
        "                       'Employment Status', 'Payment History', 'City', 'State', 'Country', 'Risk Rating']\n",
        "\n",
        "label_encoders = {col: LabelEncoder() for col in categorical_columns}\n",
        "for col in categorical_columns:\n",
        "    data[col] = label_encoders[col].fit_transform(data[col])\n",
        "\n",
        "\n",
        "scaler = StandardScaler()\n",
        "continuous_columns = ['Age', 'Income', 'Credit Score', 'Loan Amount', 'Years at Current Job',\n",
        "                      'Debt-to-Income Ratio', 'Assets Value', 'Number of Dependents',\n",
        "                      'Previous Defaults', 'Marital Status Change']\n",
        "\n",
        "data[continuous_columns] = scaler.fit_transform(data[continuous_columns])\n",
        "\n",
        "# features and target\n",
        "X = data.drop('Risk Rating', axis=1)\n",
        "y = data['Risk Rating']\n",
        "\n",
        "# transformed data\n",
        "X.head(), y.head()\n"
      ],
      "metadata": {
        "colab": {
          "base_uri": "https://localhost:8080/"
        },
        "id": "k0y_SPGxizmd",
        "outputId": "82eb03dd-fe97-456b-fdfb-1ab69e871bec"
      },
      "execution_count": 15,
      "outputs": [
        {
          "output_type": "execute_result",
          "data": {
            "text/plain": [
              "(        Age  Gender  Education Level  Marital Status    Income  Credit Score  \\\n",
              " 0  0.372049       1                3               0  0.106582     -0.210556   \n",
              " 1  0.908593       0                0               3  0.000000     -0.172649   \n",
              " 2 -1.505856       2                2               2 -0.529872     -1.878458   \n",
              " 3  1.042729       1                0               2 -1.615139     -1.461482   \n",
              " 4 -1.237584       2                0               3 -0.762703      1.267812   \n",
              " \n",
              "    Loan Amount  Loan Purpose  Employment Status  Years at Current Job  \\\n",
              " 0     1.529719             1                  2              1.650699   \n",
              " 1     0.534811             0                  0             -0.602523   \n",
              " 2     0.768335             2                  0             -0.255874   \n",
              " 3    -0.076139             3                  2             -1.295822   \n",
              " 4     0.760378             3                  2              0.090776   \n",
              " \n",
              "    Payment History  Debt-to-Income Ratio  Assets Value  Number of Dependents  \\\n",
              " 0                3             -1.362787     -0.533762             -1.557532   \n",
              " 1                1             -1.400265     -1.403416             -1.557532   \n",
              " 2                1              0.083105      0.283115              0.748204   \n",
              " 3                0              0.726309     -0.032724              0.748204   \n",
              " 4                1             -1.439714      1.720943              0.000000   \n",
              " \n",
              "    City  State  Country  Previous Defaults  Marital Status Change  \n",
              " 0  7200      3       55           0.005764               1.230755  \n",
              " 1  6077     40      223           0.771300               1.230755  \n",
              " 2  9019     41      125           0.771300               1.230755  \n",
              " 3  7946     44      226           1.536836               1.230755  \n",
              " 4  5417     17      148           0.771300               0.001884  ,\n",
              " 0    1\n",
              " 1    2\n",
              " 2    2\n",
              " 3    2\n",
              " 4    1\n",
              " Name: Risk Rating, dtype: int64)"
            ]
          },
          "metadata": {},
          "execution_count": 15
        }
      ]
    },
    {
      "cell_type": "code",
      "source": [
        "from sklearn.model_selection import train_test_split\n",
        "import numpy as np\n",
        "\n",
        "\n",
        "# 10% of the data as labeled and the rest as unlabeled for semi-supervised learning.\n",
        "X_labeled, X_unlabeled, y_labeled, y_unlabeled = train_test_split(X, y, test_size=0.9, random_state=0, stratify=y)\n",
        "\n",
        "# training and validation sets\n",
        "X_train, X_val, y_train, y_val = train_test_split(X_labeled, y_labeled, test_size=0.2, random_state=0, stratify=y_labeled)\n",
        "\n",
        "# summary\n",
        "(X_train.shape, X_val.shape, X_unlabeled.shape), (len(y_train), len(y_val), len(y_unlabeled))\n"
      ],
      "metadata": {
        "colab": {
          "base_uri": "https://localhost:8080/"
        },
        "id": "1mGB65n5i3-6",
        "outputId": "36cc5825-a9eb-4ed5-c467-44d9fdead904"
      },
      "execution_count": 16,
      "outputs": [
        {
          "output_type": "execute_result",
          "data": {
            "text/plain": [
              "(((1200, 19), (300, 19), (13500, 19)), (1200, 300, 13500))"
            ]
          },
          "metadata": {},
          "execution_count": 16
        }
      ]
    },
    {
      "cell_type": "code",
      "source": [
        "import torch\n",
        "from torch.utils.data import DataLoader, TensorDataset\n",
        "\n",
        "# converting data to PyTorch tensors\n",
        "X_train_tensor = torch.tensor(X_train.values, dtype=torch.float32)\n",
        "y_train_tensor = torch.tensor(y_train.values, dtype=torch.long)\n",
        "X_val_tensor = torch.tensor(X_val.values, dtype=torch.float32)\n",
        "y_val_tensor = torch.tensor(y_val.values, dtype=torch.long)\n",
        "X_unlabeled_tensor = torch.tensor(X_unlabeled.values, dtype=torch.float32)\n",
        "\n",
        "# data loaders\n",
        "batch_size = 64\n",
        "labeled_loader = DataLoader(TensorDataset(X_train_tensor, y_train_tensor), batch_size=batch_size, shuffle=True)\n",
        "val_loader = DataLoader(TensorDataset(X_val_tensor, y_val_tensor), batch_size=batch_size)\n",
        "unlabeled_loader = DataLoader(TensorDataset(X_unlabeled_tensor, torch.zeros(X_unlabeled_tensor.size(0), dtype=torch.long)), batch_size=batch_size, shuffle=True)\n"
      ],
      "metadata": {
        "id": "7a5BeNrJi_0f"
      },
      "execution_count": 17,
      "outputs": []
    },
    {
      "cell_type": "code",
      "source": [
        "import torch.nn as nn\n",
        "import torch.nn.functional as F\n",
        "\n",
        "class SimpleNN(nn.Module):\n",
        "    def __init__(self, input_size, num_classes):\n",
        "        super(SimpleNN, self).__init__()\n",
        "        self.fc1 = nn.Linear(input_size, 128)\n",
        "        self.fc2 = nn.Linear(128, 64)\n",
        "        self.fc3 = nn.Linear(64, num_classes)\n",
        "\n",
        "    def forward(self, x):\n",
        "        x = F.relu(self.fc1(x))\n",
        "        x = F.relu(self.fc2(x))\n",
        "        x = self.fc3(x)\n",
        "        return x\n",
        "\n",
        "# the model\n",
        "input_size = X_train.shape[1]\n",
        "num_classes = len(np.unique(y))\n",
        "model = SimpleNN(input_size, num_classes)\n"
      ],
      "metadata": {
        "id": "r9i9aHHfjCx7"
      },
      "execution_count": 18,
      "outputs": []
    },
    {
      "cell_type": "code",
      "source": [
        "import torch.optim as optim\n",
        "\n",
        "def train_fixmatch(model, labeled_loader, unlabeled_loader, val_loader, epochs=10, lambda_u=1.0):\n",
        "    optimizer = optim.Adam(model.parameters(), lr=0.001)\n",
        "    criterion = nn.CrossEntropyLoss()\n",
        "    model.train()\n",
        "\n",
        "    for epoch in range(epochs):\n",
        "        total_loss = 0\n",
        "\n",
        "        for (x_l, y_l), (x_ul, _) in zip(labeled_loader, unlabeled_loader):\n",
        "            x_l, y_l = x_l.to(device), y_l.to(device)\n",
        "            x_ul = x_ul.to(device)\n",
        "\n",
        "\n",
        "            outputs_labeled = model(x_l)\n",
        "            loss_supervised = criterion(outputs_labeled, y_l)\n",
        "\n",
        "            # pseudo-labels for the unlabeled data\n",
        "            with torch.no_grad():\n",
        "                outputs_unlabeled = model(x_ul)\n",
        "                pseudo_labels = torch.argmax(outputs_unlabeled, dim=1)\n",
        "\n",
        "            # consistency loss\n",
        "            outputs_unlabeled = model(x_ul)\n",
        "            loss_unsupervised = criterion(outputs_unlabeled, pseudo_labels)\n",
        "\n",
        "            # total loss combines\n",
        "            loss = loss_supervised + lambda_u * loss_unsupervised\n",
        "            total_loss += loss.item()\n",
        "\n",
        "            # backpropagation and optimization\n",
        "            optimizer.zero_grad()\n",
        "            loss.backward()\n",
        "            optimizer.step()\n",
        "\n",
        "\n",
        "        print(f\"Epoch {epoch + 1}/{epochs}, Loss: {total_loss / len(labeled_loader)}\")\n",
        "\n",
        "        # validation\n",
        "        validate(model, val_loader)\n"
      ],
      "metadata": {
        "id": "AkATCwqrjD3N"
      },
      "execution_count": 19,
      "outputs": []
    },
    {
      "cell_type": "code",
      "source": [
        "def validate(model, val_loader):\n",
        "    model.eval()\n",
        "    correct = 0\n",
        "    total = 0\n",
        "    with torch.no_grad():\n",
        "        for x_val, y_val in val_loader:\n",
        "            x_val, y_val = x_val.to(device), y_val.to(device)\n",
        "            outputs = model(x_val)\n",
        "            _, predicted = torch.max(outputs, 1)\n",
        "            total += y_val.size(0)\n",
        "            correct += (predicted == y_val).sum().item()\n",
        "    accuracy = 100 * correct / total\n",
        "    print(f'Validation Accuracy: {accuracy:.2f}%')\n",
        "    model.train()\n"
      ],
      "metadata": {
        "id": "dRamW-okjIGx"
      },
      "execution_count": 20,
      "outputs": []
    },
    {
      "cell_type": "code",
      "source": [
        "\n",
        "device = torch.device(\"cuda\" if torch.cuda.is_available() else \"cpu\")\n",
        "model = model.to(device)\n",
        "\n",
        "# training\n",
        "train_fixmatch(model, labeled_loader, unlabeled_loader, val_loader, epochs=20, lambda_u=1.0)\n"
      ],
      "metadata": {
        "colab": {
          "base_uri": "https://localhost:8080/"
        },
        "id": "jz0CgieqjLwe",
        "outputId": "4bc25e09-64df-4178-e218-ae34d7450cba"
      },
      "execution_count": 21,
      "outputs": [
        {
          "output_type": "stream",
          "name": "stdout",
          "text": [
            "Epoch 1/20, Loss: 40.99337279169183\n",
            "Validation Accuracy: 60.00%\n",
            "Epoch 2/20, Loss: 9.172875755711607\n",
            "Validation Accuracy: 10.00%\n",
            "Epoch 3/20, Loss: 12.146850887097811\n",
            "Validation Accuracy: 60.00%\n",
            "Epoch 4/20, Loss: 15.927376797324733\n",
            "Validation Accuracy: 60.00%\n",
            "Epoch 5/20, Loss: 6.838610159723382\n",
            "Validation Accuracy: 29.33%\n",
            "Epoch 6/20, Loss: 7.748685058794524\n",
            "Validation Accuracy: 60.00%\n",
            "Epoch 7/20, Loss: 10.770356981377853\n",
            "Validation Accuracy: 60.00%\n",
            "Epoch 8/20, Loss: 7.8711799822355575\n",
            "Validation Accuracy: 11.67%\n",
            "Epoch 9/20, Loss: 5.381718008141768\n",
            "Validation Accuracy: 60.00%\n",
            "Epoch 10/20, Loss: 6.1072554713801335\n",
            "Validation Accuracy: 60.67%\n",
            "Epoch 11/20, Loss: 5.404139550108659\n",
            "Validation Accuracy: 60.00%\n",
            "Epoch 12/20, Loss: 7.526806078459087\n",
            "Validation Accuracy: 60.00%\n",
            "Epoch 13/20, Loss: 10.591399042229904\n",
            "Validation Accuracy: 60.00%\n",
            "Epoch 14/20, Loss: 5.085757343392623\n",
            "Validation Accuracy: 24.00%\n",
            "Epoch 15/20, Loss: 5.1644298026436255\n",
            "Validation Accuracy: 30.33%\n",
            "Epoch 16/20, Loss: 3.6503378027363826\n",
            "Validation Accuracy: 30.00%\n",
            "Epoch 17/20, Loss: 8.832348748257285\n",
            "Validation Accuracy: 60.00%\n",
            "Epoch 18/20, Loss: 7.8843126547964\n",
            "Validation Accuracy: 11.67%\n",
            "Epoch 19/20, Loss: 9.559367731997842\n",
            "Validation Accuracy: 31.00%\n",
            "Epoch 20/20, Loss: 5.233381861134579\n",
            "Validation Accuracy: 60.00%\n"
          ]
        }
      ]
    },
    {
      "cell_type": "code",
      "source": [
        "import numpy as np\n",
        "\n",
        "def get_predictions(model, val_loader):\n",
        "    model.eval()\n",
        "    all_preds = []\n",
        "    all_labels = []\n",
        "    with torch.no_grad():\n",
        "        for x_val, y_val in val_loader:\n",
        "            x_val = x_val.to(device)\n",
        "            outputs = model(x_val)\n",
        "            _, predicted = torch.max(outputs, 1)\n",
        "            all_preds.extend(predicted.cpu().numpy())\n",
        "            all_labels.extend(y_val.numpy())\n",
        "    return np.array(all_preds), np.array(all_labels)\n",
        "\n",
        "# predictions and true labels\n",
        "y_val_pred, y_val_true = get_predictions(model, val_loader)\n"
      ],
      "metadata": {
        "id": "_RYBZPRxjPG3"
      },
      "execution_count": 22,
      "outputs": []
    },
    {
      "cell_type": "code",
      "source": [
        "import seaborn as sns\n",
        "import matplotlib.pyplot as plt\n",
        "from sklearn.metrics import confusion_matrix\n",
        "\n",
        "# confusion matrix\n",
        "cm = confusion_matrix(y_val_true, y_val_pred)\n",
        "\n",
        "class_names = ['Low', 'Medium', 'High']\n",
        "\n",
        "# confusion matrix using seaborn\n",
        "plt.figure(figsize=(8, 6))\n",
        "sns.heatmap(cm, annot=True, fmt='d', cmap='Blues', xticklabels=class_names, yticklabels=class_names)\n",
        "plt.xlabel('Predicted')\n",
        "plt.ylabel('Actual')\n",
        "plt.title('Confusion Matrix')\n",
        "plt.show()\n"
      ],
      "metadata": {
        "colab": {
          "base_uri": "https://localhost:8080/",
          "height": 564
        },
        "id": "H77Q8Xh2jSOt",
        "outputId": "38e8bee8-8c66-4a01-8b76-2e8d1eff729b"
      },
      "execution_count": 23,
      "outputs": [
        {
          "output_type": "display_data",
          "data": {
            "text/plain": [
              "<Figure size 800x600 with 2 Axes>"
            ],
            "image/png": "[encoded data removed]"
          },
          "metadata": {}
        }
      ]
    },
    {
      "cell_type": "code",
      "source": [
        "from sklearn.metrics import classification_report\n",
        "\n",
        "print(classification_report(y_val_true, y_val_pred, target_names=class_names))\n"
      ],
      "metadata": {
        "colab": {
          "base_uri": "https://localhost:8080/"
        },
        "id": "MMmzIjv2jVzx",
        "outputId": "104efeb7-dea0-4814-e626-d8b1c37c769c"
      },
      "execution_count": 24,
      "outputs": [
        {
          "output_type": "stream",
          "name": "stdout",
          "text": [
            "              precision    recall  f1-score   support\n",
            "\n",
            "         Low       0.00      0.00      0.00        30\n",
            "      Medium       0.60      1.00      0.75       180\n",
            "        High       0.00      0.00      0.00        90\n",
            "\n",
            "    accuracy                           0.60       300\n",
            "   macro avg       0.20      0.33      0.25       300\n",
            "weighted avg       0.36      0.60      0.45       300\n",
            "\n"
          ]
        },
        {
          "output_type": "stream",
          "name": "stderr",
          "text": [
            "/usr/local/lib/python3.10/dist-packages/sklearn/metrics/_classification.py:1531: UndefinedMetricWarning: Precision is ill-defined and being set to 0.0 in labels with no predicted samples. Use `zero_division` parameter to control this behavior.\n",
            "  _warn_prf(average, modifier, f\"{metric.capitalize()} is\", len(result))\n",
            "/usr/local/lib/python3.10/dist-packages/sklearn/metrics/_classification.py:1531: UndefinedMetricWarning: Precision is ill-defined and being set to 0.0 in labels with no predicted samples. Use `zero_division` parameter to control this behavior.\n",
            "  _warn_prf(average, modifier, f\"{metric.capitalize()} is\", len(result))\n",
            "/usr/local/lib/python3.10/dist-packages/sklearn/metrics/_classification.py:1531: UndefinedMetricWarning: Precision is ill-defined and being set to 0.0 in labels with no predicted samples. Use `zero_division` parameter to control this behavior.\n",
            "  _warn_prf(average, modifier, f\"{metric.capitalize()} is\", len(result))\n"
          ]
        }
      ]
    }
  ]
}